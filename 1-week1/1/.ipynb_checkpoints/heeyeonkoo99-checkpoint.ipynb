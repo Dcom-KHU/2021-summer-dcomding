{
 "cells": [
  {
   "cell_type": "code",
   "execution_count": null,
   "metadata": {},
   "outputs": [],
   "source": [
    "#1주차 수업-1\n",
    "n,k=map(int,input().split())\n",
    "temp=list(map(int,input().split()))\n",
    "idx=0\n",
    "while idx!=k:\n",
    "    if idx%2==0:\n",
    "        temp.remove(min(temp))\n",
    "    else:\n",
    "        temp.remove(max(temp))\n",
    "    idx+=1\n",
    "print(sum(temp))"
   ]
  }
 ],
 "metadata": {
  "kernelspec": {
   "display_name": "Python 3",
   "language": "python",
   "name": "python3"
  },
  "language_info": {
   "codemirror_mode": {
    "name": "ipython",
    "version": 3
   },
   "file_extension": ".py",
   "mimetype": "text/x-python",
   "name": "python",
   "nbconvert_exporter": "python",
   "pygments_lexer": "ipython3",
   "version": "3.8.5"
  }
 },
 "nbformat": 4,
 "nbformat_minor": 4
}
