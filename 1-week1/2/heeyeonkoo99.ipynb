{
 "cells": [
  {
   "cell_type": "code",
   "execution_count": 3,
   "metadata": {},
   "outputs": [
    {
     "name": "stdout",
     "output_type": "stream",
     "text": [
      "3\n",
      "17\n"
     ]
    }
   ],
   "source": [
    "#1주차 수업-2\n",
    "import sys\n",
    "\n",
    "global movement=[]\n",
    "answer=0\n",
    "def hanoi_top(n,a,b,c):\n",
    "    if n==1:\n",
    "        movement.append([a,c])\n",
    "    else:\n",
    "        hanoi_top(n-1,a,c,b)\n",
    "        movement.append([a,c])\n",
    "        hanoi_top(n-1,b,a,c)\n",
    "\n",
    "n=int(sys.stdin.readline())\n",
    "hanoi_top(n,1,2,3)\n",
    "\n",
    "for i in movement:\n",
    "    answer+=i[1]\n",
    "    \n",
    "#print(len(movement)) =>이동횟수\n",
    "print(answer)\n",
    "\n",
    "\n",
    "#Review) 설명이 잘나와있다. 헷갈릴때마다 보기=> https://m.blog.naver.com/jaeyoon_95/221762231876\n",
    "# 프로그래머스 level3에 있는 문제도 풀어보자!"
   ]
  }
 ],
 "metadata": {
  "kernelspec": {
   "display_name": "Python 3",
   "language": "python",
   "name": "python3"
  },
  "language_info": {
   "codemirror_mode": {
    "name": "ipython",
    "version": 3
   },
   "file_extension": ".py",
   "mimetype": "text/x-python",
   "name": "python",
   "nbconvert_exporter": "python",
   "pygments_lexer": "ipython3",
   "version": "3.8.5"
  }
 },
 "nbformat": 4,
 "nbformat_minor": 4
}
